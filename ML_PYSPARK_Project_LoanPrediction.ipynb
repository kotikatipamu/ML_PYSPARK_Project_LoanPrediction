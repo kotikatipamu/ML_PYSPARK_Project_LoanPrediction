{
  "nbformat": 4,
  "nbformat_minor": 0,
  "metadata": {
    "colab": {
      "provenance": []
    },
    "kernelspec": {
      "name": "python3",
      "display_name": "Python 3"
    },
    "language_info": {
      "name": "python"
    }
  },
  "cells": [
    {
      "cell_type": "markdown",
      "source": [
        "#Mastering Machine Learning with PySpark | Loan Prediction | Python"
      ],
      "metadata": {
        "id": "A0LDUPMESVcA"
      }
    },
    {
      "cell_type": "code",
      "source": [
        "!pip install pyspark"
      ],
      "metadata": {
        "colab": {
          "base_uri": "https://localhost:8080/"
        },
        "id": "5RJDIWyNSZPR",
        "outputId": "28b50589-2cd7-4d09-9fab-e7329b355a2d"
      },
      "execution_count": null,
      "outputs": [
        {
          "output_type": "stream",
          "name": "stdout",
          "text": [
            "Looking in indexes: https://pypi.org/simple, https://us-python.pkg.dev/colab-wheels/public/simple/\n",
            "Requirement already satisfied: pyspark in /usr/local/lib/python3.10/dist-packages (3.4.0)\n",
            "Requirement already satisfied: py4j==0.10.9.7 in /usr/local/lib/python3.10/dist-packages (from pyspark) (0.10.9.7)\n"
          ]
        }
      ]
    },
    {
      "cell_type": "code",
      "source": [
        "import pyspark\n",
        "from pyspark.sql import SparkSession\n",
        "import pyspark.sql.functions as F\n",
        "import pandas as pd\n",
        "import warnings\n",
        "warnings.filterwarnings('ignore')"
      ],
      "metadata": {
        "id": "rW47Iw7aV8P-"
      },
      "execution_count": null,
      "outputs": []
    },
    {
      "cell_type": "markdown",
      "source": [
        "#Session Intialization"
      ],
      "metadata": {
        "id": "dT5CmjdqXX90"
      }
    },
    {
      "cell_type": "code",
      "source": [
        "spark= SparkSession.builder.appName(\"Loan_Prediction_Project\").getOrCreate()"
      ],
      "metadata": {
        "id": "MYm4J3pIWbrV"
      },
      "execution_count": null,
      "outputs": []
    },
    {
      "cell_type": "code",
      "source": [
        "spark"
      ],
      "metadata": {
        "colab": {
          "base_uri": "https://localhost:8080/",
          "height": 219
        },
        "id": "c3nk67y6XR4q",
        "outputId": "ebbcb25c-91b5-4d39-fa05-f94101fde935"
      },
      "execution_count": null,
      "outputs": [
        {
          "output_type": "execute_result",
          "data": {
            "text/plain": [
              "<pyspark.sql.session.SparkSession at 0x7f774a0168c0>"
            ],
            "text/html": [
              "\n",
              "            <div>\n",
              "                <p><b>SparkSession - in-memory</b></p>\n",
              "                \n",
              "        <div>\n",
              "            <p><b>SparkContext</b></p>\n",
              "\n",
              "            <p><a href=\"http://2e4aae8f1788:4040\">Spark UI</a></p>\n",
              "\n",
              "            <dl>\n",
              "              <dt>Version</dt>\n",
              "                <dd><code>v3.4.0</code></dd>\n",
              "              <dt>Master</dt>\n",
              "                <dd><code>local[*]</code></dd>\n",
              "              <dt>AppName</dt>\n",
              "                <dd><code>Loan_Prediction_Project</code></dd>\n",
              "            </dl>\n",
              "        </div>\n",
              "        \n",
              "            </div>\n",
              "        "
            ]
          },
          "metadata": {},
          "execution_count": 4
        }
      ]
    },
    {
      "cell_type": "markdown",
      "source": [
        "#Load the Dataset"
      ],
      "metadata": {
        "id": "nYZbD6i6XlT6"
      }
    },
    {
      "cell_type": "code",
      "source": [
        "df = spark.read.csv('/content/Loan_Prediction.csv',\n",
        "                    header = True,sep = ',',inferSchema = True)\n",
        "df.show(5)"
      ],
      "metadata": {
        "colab": {
          "base_uri": "https://localhost:8080/"
        },
        "id": "gmy-4lDjXS7y",
        "outputId": "be507f4d-c621-4f24-e5a9-71b3987ae568"
      },
      "execution_count": null,
      "outputs": [
        {
          "output_type": "stream",
          "name": "stdout",
          "text": [
            "+--------+------+-------+----------+------------+-------------+---------------+-----------------+----------+----------------+--------------+-------------+-----------+\n",
            "| Loan_ID|Gender|Married|Dependents|   Education|Self_Employed|ApplicantIncome|CoapplicantIncome|LoanAmount|Loan_Amount_Term|Credit_History|Property_Area|Loan_Status|\n",
            "+--------+------+-------+----------+------------+-------------+---------------+-----------------+----------+----------------+--------------+-------------+-----------+\n",
            "|LP001002|  Male|     No|         0|    Graduate|           No|           5849|              0.0|      null|             360|             1|        Urban|          Y|\n",
            "|LP001003|  Male|    Yes|         1|    Graduate|           No|           4583|           1508.0|       128|             360|             1|        Rural|          N|\n",
            "|LP001005|  Male|    Yes|         0|    Graduate|          Yes|           3000|              0.0|        66|             360|             1|        Urban|          Y|\n",
            "|LP001006|  Male|    Yes|         0|Not Graduate|           No|           2583|           2358.0|       120|             360|             1|        Urban|          Y|\n",
            "|LP001008|  Male|     No|         0|    Graduate|           No|           6000|              0.0|       141|             360|             1|        Urban|          Y|\n",
            "+--------+------+-------+----------+------------+-------------+---------------+-----------------+----------+----------------+--------------+-------------+-----------+\n",
            "only showing top 5 rows\n",
            "\n"
          ]
        }
      ]
    },
    {
      "cell_type": "code",
      "source": [
        "row = df.count()\n",
        "columns = len(df.columns)\n",
        "shape = row,columns\n",
        "print(shape)"
      ],
      "metadata": {
        "colab": {
          "base_uri": "https://localhost:8080/"
        },
        "id": "Jh-Mxpl7cvTb",
        "outputId": "e93d7788-2419-4847-9cc3-4ec2e777f569"
      },
      "execution_count": null,
      "outputs": [
        {
          "output_type": "stream",
          "name": "stdout",
          "text": [
            "(614, 13)\n"
          ]
        }
      ]
    },
    {
      "cell_type": "code",
      "source": [
        "df.columns"
      ],
      "metadata": {
        "colab": {
          "base_uri": "https://localhost:8080/"
        },
        "id": "PeZF8s_xavi7",
        "outputId": "d1aa53ad-acae-455d-83fa-e8c537d743d2"
      },
      "execution_count": null,
      "outputs": [
        {
          "output_type": "execute_result",
          "data": {
            "text/plain": [
              "['Loan_ID',\n",
              " 'Gender',\n",
              " 'Married',\n",
              " 'Dependents',\n",
              " 'Education',\n",
              " 'Self_Employed',\n",
              " 'ApplicantIncome',\n",
              " 'CoapplicantIncome',\n",
              " 'LoanAmount',\n",
              " 'Loan_Amount_Term',\n",
              " 'Credit_History',\n",
              " 'Property_Area',\n",
              " 'Loan_Status']"
            ]
          },
          "metadata": {},
          "execution_count": 7
        }
      ]
    },
    {
      "cell_type": "code",
      "source": [
        "df.printSchema()"
      ],
      "metadata": {
        "colab": {
          "base_uri": "https://localhost:8080/"
        },
        "id": "WujboAuYb9El",
        "outputId": "c764ce9f-bbbd-4fed-e02e-a6a8fd3deaac"
      },
      "execution_count": null,
      "outputs": [
        {
          "output_type": "stream",
          "name": "stdout",
          "text": [
            "root\n",
            " |-- Loan_ID: string (nullable = true)\n",
            " |-- Gender: string (nullable = true)\n",
            " |-- Married: string (nullable = true)\n",
            " |-- Dependents: string (nullable = true)\n",
            " |-- Education: string (nullable = true)\n",
            " |-- Self_Employed: string (nullable = true)\n",
            " |-- ApplicantIncome: integer (nullable = true)\n",
            " |-- CoapplicantIncome: double (nullable = true)\n",
            " |-- LoanAmount: integer (nullable = true)\n",
            " |-- Loan_Amount_Term: integer (nullable = true)\n",
            " |-- Credit_History: integer (nullable = true)\n",
            " |-- Property_Area: string (nullable = true)\n",
            " |-- Loan_Status: string (nullable = true)\n",
            "\n"
          ]
        }
      ]
    },
    {
      "cell_type": "code",
      "source": [
        "df.dtypes"
      ],
      "metadata": {
        "colab": {
          "base_uri": "https://localhost:8080/"
        },
        "id": "oF3tbYvMcFdl",
        "outputId": "9f2abc6f-e7a7-49a9-cf79-7505389729bc"
      },
      "execution_count": null,
      "outputs": [
        {
          "output_type": "execute_result",
          "data": {
            "text/plain": [
              "[('Loan_ID', 'string'),\n",
              " ('Gender', 'string'),\n",
              " ('Married', 'string'),\n",
              " ('Dependents', 'string'),\n",
              " ('Education', 'string'),\n",
              " ('Self_Employed', 'string'),\n",
              " ('ApplicantIncome', 'int'),\n",
              " ('CoapplicantIncome', 'double'),\n",
              " ('LoanAmount', 'int'),\n",
              " ('Loan_Amount_Term', 'int'),\n",
              " ('Credit_History', 'int'),\n",
              " ('Property_Area', 'string'),\n",
              " ('Loan_Status', 'string')]"
            ]
          },
          "metadata": {},
          "execution_count": 9
        }
      ]
    },
    {
      "cell_type": "markdown",
      "source": [
        "#Data Analysis"
      ],
      "metadata": {
        "id": "JCbrrpisdjYB"
      }
    },
    {
      "cell_type": "code",
      "source": [
        "df.groupby('Loan_Status').count().show()"
      ],
      "metadata": {
        "colab": {
          "base_uri": "https://localhost:8080/"
        },
        "id": "bhj2IKfldg7R",
        "outputId": "8a816773-139d-4a52-a43f-5d522747f87c"
      },
      "execution_count": null,
      "outputs": [
        {
          "output_type": "stream",
          "name": "stdout",
          "text": [
            "+-----------+-----+\n",
            "|Loan_Status|count|\n",
            "+-----------+-----+\n",
            "|          Y|  422|\n",
            "|          N|  192|\n",
            "+-----------+-----+\n",
            "\n"
          ]
        }
      ]
    },
    {
      "cell_type": "code",
      "source": [
        "# here we are displaying credit history wrt loan status\n",
        "df.select('Credit_History','Loan_Status').groupby('Loan_Status').agg(F.avg('Credit_History')).show()"
      ],
      "metadata": {
        "colab": {
          "base_uri": "https://localhost:8080/"
        },
        "id": "DSw1g_Iid9WB",
        "outputId": "103a66f3-6d5a-4e9a-d636-91ba7534e37e"
      },
      "execution_count": null,
      "outputs": [
        {
          "output_type": "stream",
          "name": "stdout",
          "text": [
            "+-----------+-------------------+\n",
            "|Loan_Status|avg(Credit_History)|\n",
            "+-----------+-------------------+\n",
            "|          Y| 0.9818181818181818|\n",
            "|          N| 0.5418994413407822|\n",
            "+-----------+-------------------+\n",
            "\n"
          ]
        }
      ]
    },
    {
      "cell_type": "code",
      "source": [
        "# Gender wrt Loan_Status\n",
        "df.select('Gender','Loan_Status').groupby('Loan_Status','Gender').agg(F.count('Gender')).show()"
      ],
      "metadata": {
        "colab": {
          "base_uri": "https://localhost:8080/"
        },
        "id": "Nqci1HPgekGk",
        "outputId": "e9640f16-926c-4de2-a0c1-2b8b3772dc0d"
      },
      "execution_count": null,
      "outputs": [
        {
          "output_type": "stream",
          "name": "stdout",
          "text": [
            "+-----------+------+-------------+\n",
            "|Loan_Status|Gender|count(Gender)|\n",
            "+-----------+------+-------------+\n",
            "|          N|Female|           37|\n",
            "|          Y|  null|            0|\n",
            "|          Y|Female|           75|\n",
            "|          N|  null|            0|\n",
            "|          Y|  Male|          339|\n",
            "|          N|  Male|          150|\n",
            "+-----------+------+-------------+\n",
            "\n"
          ]
        }
      ]
    },
    {
      "cell_type": "markdown",
      "source": [
        "# Correlation matrix"
      ],
      "metadata": {
        "id": "WfDjp7-SS63v"
      }
    },
    {
      "cell_type": "code",
      "source": [
        "df.printSchema()"
      ],
      "metadata": {
        "colab": {
          "base_uri": "https://localhost:8080/"
        },
        "id": "_FKLu1CofJt2",
        "outputId": "11d37c5d-4c12-4a8b-92d2-ae1714556073"
      },
      "execution_count": null,
      "outputs": [
        {
          "output_type": "stream",
          "name": "stdout",
          "text": [
            "root\n",
            " |-- Loan_ID: string (nullable = true)\n",
            " |-- Gender: string (nullable = true)\n",
            " |-- Married: string (nullable = true)\n",
            " |-- Dependents: string (nullable = true)\n",
            " |-- Education: string (nullable = true)\n",
            " |-- Self_Employed: string (nullable = true)\n",
            " |-- ApplicantIncome: integer (nullable = true)\n",
            " |-- CoapplicantIncome: double (nullable = true)\n",
            " |-- LoanAmount: integer (nullable = true)\n",
            " |-- Loan_Amount_Term: integer (nullable = true)\n",
            " |-- Credit_History: integer (nullable = true)\n",
            " |-- Property_Area: string (nullable = true)\n",
            " |-- Loan_Status: string (nullable = true)\n",
            "\n"
          ]
        }
      ]
    },
    {
      "cell_type": "code",
      "source": [
        "# we can take only continous variables\n",
        "columns = ['ApplicantIncome','CoapplicantIncome','LoanAmount','Loan_Amount_Term','Credit_History']\n",
        "corr_df = pd.DataFrame()\n",
        "for i in columns :\n",
        "  corr = []\n",
        "  # two for loops bcz correlation matrix is n*n array\n",
        "  for j in columns:\n",
        "      corr.append(round(df.stat.corr(i,j),2))\n",
        "  corr_df=pd.concat([corr_df,pd.Series(corr)],axis = 1)\n",
        "corr_df.columns = columns\n",
        "corr_df.insert(0,\"\",columns)\n",
        "corr_df.set_index(\"\")"
      ],
      "metadata": {
        "colab": {
          "base_uri": "https://localhost:8080/",
          "height": 284
        },
        "id": "fH55VXDBS-mh",
        "outputId": "394f36ee-0c88-445e-f19b-b51faec87185"
      },
      "execution_count": null,
      "outputs": [
        {
          "output_type": "execute_result",
          "data": {
            "text/plain": [
              "                   ApplicantIncome  CoapplicantIncome  LoanAmount  \\\n",
              "                                                                    \n",
              "ApplicantIncome               1.00              -0.12        0.54   \n",
              "CoapplicantIncome            -0.12               1.00        0.19   \n",
              "LoanAmount                    0.54               0.19        1.00   \n",
              "Loan_Amount_Term             -0.02              -0.05        0.06   \n",
              "Credit_History                0.01              -0.06       -0.03   \n",
              "\n",
              "                   Loan_Amount_Term  Credit_History  \n",
              "                                                     \n",
              "ApplicantIncome               -0.02            0.01  \n",
              "CoapplicantIncome             -0.05           -0.06  \n",
              "LoanAmount                     0.06           -0.03  \n",
              "Loan_Amount_Term               1.00            0.05  \n",
              "Credit_History                 0.05            1.00  "
            ],
            "text/html": [
              "\n",
              "  <div id=\"df-4fdac643-fbd0-46cf-a745-aef78dc68123\">\n",
              "    <div class=\"colab-df-container\">\n",
              "      <div>\n",
              "<style scoped>\n",
              "    .dataframe tbody tr th:only-of-type {\n",
              "        vertical-align: middle;\n",
              "    }\n",
              "\n",
              "    .dataframe tbody tr th {\n",
              "        vertical-align: top;\n",
              "    }\n",
              "\n",
              "    .dataframe thead th {\n",
              "        text-align: right;\n",
              "    }\n",
              "</style>\n",
              "<table border=\"1\" class=\"dataframe\">\n",
              "  <thead>\n",
              "    <tr style=\"text-align: right;\">\n",
              "      <th></th>\n",
              "      <th>ApplicantIncome</th>\n",
              "      <th>CoapplicantIncome</th>\n",
              "      <th>LoanAmount</th>\n",
              "      <th>Loan_Amount_Term</th>\n",
              "      <th>Credit_History</th>\n",
              "    </tr>\n",
              "    <tr>\n",
              "      <th></th>\n",
              "      <th></th>\n",
              "      <th></th>\n",
              "      <th></th>\n",
              "      <th></th>\n",
              "      <th></th>\n",
              "    </tr>\n",
              "  </thead>\n",
              "  <tbody>\n",
              "    <tr>\n",
              "      <th>ApplicantIncome</th>\n",
              "      <td>1.00</td>\n",
              "      <td>-0.12</td>\n",
              "      <td>0.54</td>\n",
              "      <td>-0.02</td>\n",
              "      <td>0.01</td>\n",
              "    </tr>\n",
              "    <tr>\n",
              "      <th>CoapplicantIncome</th>\n",
              "      <td>-0.12</td>\n",
              "      <td>1.00</td>\n",
              "      <td>0.19</td>\n",
              "      <td>-0.05</td>\n",
              "      <td>-0.06</td>\n",
              "    </tr>\n",
              "    <tr>\n",
              "      <th>LoanAmount</th>\n",
              "      <td>0.54</td>\n",
              "      <td>0.19</td>\n",
              "      <td>1.00</td>\n",
              "      <td>0.06</td>\n",
              "      <td>-0.03</td>\n",
              "    </tr>\n",
              "    <tr>\n",
              "      <th>Loan_Amount_Term</th>\n",
              "      <td>-0.02</td>\n",
              "      <td>-0.05</td>\n",
              "      <td>0.06</td>\n",
              "      <td>1.00</td>\n",
              "      <td>0.05</td>\n",
              "    </tr>\n",
              "    <tr>\n",
              "      <th>Credit_History</th>\n",
              "      <td>0.01</td>\n",
              "      <td>-0.06</td>\n",
              "      <td>-0.03</td>\n",
              "      <td>0.05</td>\n",
              "      <td>1.00</td>\n",
              "    </tr>\n",
              "  </tbody>\n",
              "</table>\n",
              "</div>\n",
              "      <button class=\"colab-df-convert\" onclick=\"convertToInteractive('df-4fdac643-fbd0-46cf-a745-aef78dc68123')\"\n",
              "              title=\"Convert this dataframe to an interactive table.\"\n",
              "              style=\"display:none;\">\n",
              "        \n",
              "  <svg xmlns=\"http://www.w3.org/2000/svg\" height=\"24px\"viewBox=\"0 0 24 24\"\n",
              "       width=\"24px\">\n",
              "    <path d=\"M0 0h24v24H0V0z\" fill=\"none\"/>\n",
              "    <path d=\"M18.56 5.44l.94 2.06.94-2.06 2.06-.94-2.06-.94-.94-2.06-.94 2.06-2.06.94zm-11 1L8.5 8.5l.94-2.06 2.06-.94-2.06-.94L8.5 2.5l-.94 2.06-2.06.94zm10 10l.94 2.06.94-2.06 2.06-.94-2.06-.94-.94-2.06-.94 2.06-2.06.94z\"/><path d=\"M17.41 7.96l-1.37-1.37c-.4-.4-.92-.59-1.43-.59-.52 0-1.04.2-1.43.59L10.3 9.45l-7.72 7.72c-.78.78-.78 2.05 0 2.83L4 21.41c.39.39.9.59 1.41.59.51 0 1.02-.2 1.41-.59l7.78-7.78 2.81-2.81c.8-.78.8-2.07 0-2.86zM5.41 20L4 18.59l7.72-7.72 1.47 1.35L5.41 20z\"/>\n",
              "  </svg>\n",
              "      </button>\n",
              "      \n",
              "  <style>\n",
              "    .colab-df-container {\n",
              "      display:flex;\n",
              "      flex-wrap:wrap;\n",
              "      gap: 12px;\n",
              "    }\n",
              "\n",
              "    .colab-df-convert {\n",
              "      background-color: #E8F0FE;\n",
              "      border: none;\n",
              "      border-radius: 50%;\n",
              "      cursor: pointer;\n",
              "      display: none;\n",
              "      fill: #1967D2;\n",
              "      height: 32px;\n",
              "      padding: 0 0 0 0;\n",
              "      width: 32px;\n",
              "    }\n",
              "\n",
              "    .colab-df-convert:hover {\n",
              "      background-color: #E2EBFA;\n",
              "      box-shadow: 0px 1px 2px rgba(60, 64, 67, 0.3), 0px 1px 3px 1px rgba(60, 64, 67, 0.15);\n",
              "      fill: #174EA6;\n",
              "    }\n",
              "\n",
              "    [theme=dark] .colab-df-convert {\n",
              "      background-color: #3B4455;\n",
              "      fill: #D2E3FC;\n",
              "    }\n",
              "\n",
              "    [theme=dark] .colab-df-convert:hover {\n",
              "      background-color: #434B5C;\n",
              "      box-shadow: 0px 1px 3px 1px rgba(0, 0, 0, 0.15);\n",
              "      filter: drop-shadow(0px 1px 2px rgba(0, 0, 0, 0.3));\n",
              "      fill: #FFFFFF;\n",
              "    }\n",
              "  </style>\n",
              "\n",
              "      <script>\n",
              "        const buttonEl =\n",
              "          document.querySelector('#df-4fdac643-fbd0-46cf-a745-aef78dc68123 button.colab-df-convert');\n",
              "        buttonEl.style.display =\n",
              "          google.colab.kernel.accessAllowed ? 'block' : 'none';\n",
              "\n",
              "        async function convertToInteractive(key) {\n",
              "          const element = document.querySelector('#df-4fdac643-fbd0-46cf-a745-aef78dc68123');\n",
              "          const dataTable =\n",
              "            await google.colab.kernel.invokeFunction('convertToInteractive',\n",
              "                                                     [key], {});\n",
              "          if (!dataTable) return;\n",
              "\n",
              "          const docLinkHtml = 'Like what you see? Visit the ' +\n",
              "            '<a target=\"_blank\" href=https://colab.research.google.com/notebooks/data_table.ipynb>data table notebook</a>'\n",
              "            + ' to learn more about interactive tables.';\n",
              "          element.innerHTML = '';\n",
              "          dataTable['output_type'] = 'display_data';\n",
              "          await google.colab.output.renderOutput(dataTable, element);\n",
              "          const docLink = document.createElement('div');\n",
              "          docLink.innerHTML = docLinkHtml;\n",
              "          element.appendChild(docLink);\n",
              "        }\n",
              "      </script>\n",
              "    </div>\n",
              "  </div>\n",
              "  "
            ]
          },
          "metadata": {},
          "execution_count": 14
        }
      ]
    },
    {
      "cell_type": "code",
      "source": [
        "# for particularly two columns\n",
        "df.stat.corr('ApplicantIncome','LoanAmount')"
      ],
      "metadata": {
        "colab": {
          "base_uri": "https://localhost:8080/"
        },
        "id": "X-Do_acpYdH0",
        "outputId": "c235fe43-f033-456a-eab0-5fcc8577df0f"
      },
      "execution_count": null,
      "outputs": [
        {
          "output_type": "execute_result",
          "data": {
            "text/plain": [
              "0.5382898359624531"
            ]
          },
          "metadata": {},
          "execution_count": 15
        }
      ]
    },
    {
      "cell_type": "markdown",
      "source": [
        "# Perform SQL opertions"
      ],
      "metadata": {
        "id": "A6iFQBOoZhYI"
      }
    },
    {
      "cell_type": "code",
      "source": [
        "import pyspark.sql as sparksql"
      ],
      "metadata": {
        "id": "EqJwaP2pY0Vm"
      },
      "execution_count": null,
      "outputs": []
    },
    {
      "cell_type": "code",
      "source": [
        "# create temporary table\n",
        "df.createOrReplaceTempView('Loan_table')"
      ],
      "metadata": {
        "id": "i2Q5WQguZsma"
      },
      "execution_count": null,
      "outputs": []
    },
    {
      "cell_type": "code",
      "source": [
        "spark.sql(\"select * from Loan_table\").show()"
      ],
      "metadata": {
        "colab": {
          "base_uri": "https://localhost:8080/"
        },
        "id": "4GEnXFWnZ3XY",
        "outputId": "dad087a8-9baa-4a57-ce8f-91fd4709b83d"
      },
      "execution_count": null,
      "outputs": [
        {
          "output_type": "stream",
          "name": "stdout",
          "text": [
            "+--------+------+-------+----------+------------+-------------+---------------+-----------------+----------+----------------+--------------+-------------+-----------+\n",
            "| Loan_ID|Gender|Married|Dependents|   Education|Self_Employed|ApplicantIncome|CoapplicantIncome|LoanAmount|Loan_Amount_Term|Credit_History|Property_Area|Loan_Status|\n",
            "+--------+------+-------+----------+------------+-------------+---------------+-----------------+----------+----------------+--------------+-------------+-----------+\n",
            "|LP001002|  Male|     No|         0|    Graduate|           No|           5849|              0.0|      null|             360|             1|        Urban|          Y|\n",
            "|LP001003|  Male|    Yes|         1|    Graduate|           No|           4583|           1508.0|       128|             360|             1|        Rural|          N|\n",
            "|LP001005|  Male|    Yes|         0|    Graduate|          Yes|           3000|              0.0|        66|             360|             1|        Urban|          Y|\n",
            "|LP001006|  Male|    Yes|         0|Not Graduate|           No|           2583|           2358.0|       120|             360|             1|        Urban|          Y|\n",
            "|LP001008|  Male|     No|         0|    Graduate|           No|           6000|              0.0|       141|             360|             1|        Urban|          Y|\n",
            "|LP001011|  Male|    Yes|         2|    Graduate|          Yes|           5417|           4196.0|       267|             360|             1|        Urban|          Y|\n",
            "|LP001013|  Male|    Yes|         0|Not Graduate|           No|           2333|           1516.0|        95|             360|             1|        Urban|          Y|\n",
            "|LP001014|  Male|    Yes|        3+|    Graduate|           No|           3036|           2504.0|       158|             360|             0|    Semiurban|          N|\n",
            "|LP001018|  Male|    Yes|         2|    Graduate|           No|           4006|           1526.0|       168|             360|             1|        Urban|          Y|\n",
            "|LP001020|  Male|    Yes|         1|    Graduate|           No|          12841|          10968.0|       349|             360|             1|    Semiurban|          N|\n",
            "|LP001024|  Male|    Yes|         2|    Graduate|           No|           3200|            700.0|        70|             360|             1|        Urban|          Y|\n",
            "|LP001027|  Male|    Yes|         2|    Graduate|         null|           2500|           1840.0|       109|             360|             1|        Urban|          Y|\n",
            "|LP001028|  Male|    Yes|         2|    Graduate|           No|           3073|           8106.0|       200|             360|             1|        Urban|          Y|\n",
            "|LP001029|  Male|     No|         0|    Graduate|           No|           1853|           2840.0|       114|             360|             1|        Rural|          N|\n",
            "|LP001030|  Male|    Yes|         2|    Graduate|           No|           1299|           1086.0|        17|             120|             1|        Urban|          Y|\n",
            "|LP001032|  Male|     No|         0|    Graduate|           No|           4950|              0.0|       125|             360|             1|        Urban|          Y|\n",
            "|LP001034|  Male|     No|         1|Not Graduate|           No|           3596|              0.0|       100|             240|          null|        Urban|          Y|\n",
            "|LP001036|Female|     No|         0|    Graduate|           No|           3510|              0.0|        76|             360|             0|        Urban|          N|\n",
            "|LP001038|  Male|    Yes|         0|Not Graduate|           No|           4887|              0.0|       133|             360|             1|        Rural|          N|\n",
            "|LP001041|  Male|    Yes|         0|    Graduate|         null|           2600|           3500.0|       115|            null|             1|        Urban|          Y|\n",
            "+--------+------+-------+----------+------------+-------------+---------------+-----------------+----------+----------------+--------------+-------------+-----------+\n",
            "only showing top 20 rows\n",
            "\n"
          ]
        }
      ]
    },
    {
      "cell_type": "code",
      "source": [
        "spark.sql(\"select * from Loan_table limit 5\").show()"
      ],
      "metadata": {
        "colab": {
          "base_uri": "https://localhost:8080/"
        },
        "id": "e8E3qbJ2aDWH",
        "outputId": "5a07cdf4-86ee-453a-cf15-26f3e818c47f"
      },
      "execution_count": null,
      "outputs": [
        {
          "output_type": "stream",
          "name": "stdout",
          "text": [
            "+--------+------+-------+----------+------------+-------------+---------------+-----------------+----------+----------------+--------------+-------------+-----------+\n",
            "| Loan_ID|Gender|Married|Dependents|   Education|Self_Employed|ApplicantIncome|CoapplicantIncome|LoanAmount|Loan_Amount_Term|Credit_History|Property_Area|Loan_Status|\n",
            "+--------+------+-------+----------+------------+-------------+---------------+-----------------+----------+----------------+--------------+-------------+-----------+\n",
            "|LP001002|  Male|     No|         0|    Graduate|           No|           5849|              0.0|      null|             360|             1|        Urban|          Y|\n",
            "|LP001003|  Male|    Yes|         1|    Graduate|           No|           4583|           1508.0|       128|             360|             1|        Rural|          N|\n",
            "|LP001005|  Male|    Yes|         0|    Graduate|          Yes|           3000|              0.0|        66|             360|             1|        Urban|          Y|\n",
            "|LP001006|  Male|    Yes|         0|Not Graduate|           No|           2583|           2358.0|       120|             360|             1|        Urban|          Y|\n",
            "|LP001008|  Male|     No|         0|    Graduate|           No|           6000|              0.0|       141|             360|             1|        Urban|          Y|\n",
            "+--------+------+-------+----------+------------+-------------+---------------+-----------------+----------+----------------+--------------+-------------+-----------+\n",
            "\n"
          ]
        }
      ]
    },
    {
      "cell_type": "code",
      "source": [
        "spark.sql(\"select Loan_Status,count(*) from Loan_table group by Loan_Status\").show()"
      ],
      "metadata": {
        "colab": {
          "base_uri": "https://localhost:8080/"
        },
        "id": "GgoeXg-xaYBa",
        "outputId": "a4861f6c-642d-4aca-e563-6940fb54c94f"
      },
      "execution_count": null,
      "outputs": [
        {
          "output_type": "stream",
          "name": "stdout",
          "text": [
            "+-----------+--------+\n",
            "|Loan_Status|count(1)|\n",
            "+-----------+--------+\n",
            "|          Y|     422|\n",
            "|          N|     192|\n",
            "+-----------+--------+\n",
            "\n"
          ]
        }
      ]
    },
    {
      "cell_type": "code",
      "source": [
        "spark.sql('select Loan_ID from Loan_table where Credit_History = 1').show()"
      ],
      "metadata": {
        "colab": {
          "base_uri": "https://localhost:8080/"
        },
        "id": "VU2w9_12a_Zf",
        "outputId": "fd09f3a0-8725-4c58-e488-fadb9b41cbb5"
      },
      "execution_count": null,
      "outputs": [
        {
          "output_type": "stream",
          "name": "stdout",
          "text": [
            "+--------+\n",
            "| Loan_ID|\n",
            "+--------+\n",
            "|LP001002|\n",
            "|LP001003|\n",
            "|LP001005|\n",
            "|LP001006|\n",
            "|LP001008|\n",
            "|LP001011|\n",
            "|LP001013|\n",
            "|LP001018|\n",
            "|LP001020|\n",
            "|LP001024|\n",
            "|LP001027|\n",
            "|LP001028|\n",
            "|LP001029|\n",
            "|LP001030|\n",
            "|LP001032|\n",
            "|LP001038|\n",
            "|LP001041|\n",
            "|LP001046|\n",
            "|LP001066|\n",
            "|LP001068|\n",
            "+--------+\n",
            "only showing top 20 rows\n",
            "\n"
          ]
        }
      ]
    },
    {
      "cell_type": "markdown",
      "source": [
        "#Data Cleaning"
      ],
      "metadata": {
        "id": "6UKIwEDFbuHm"
      }
    },
    {
      "cell_type": "code",
      "source": [
        "#displaying null values"
      ],
      "metadata": {
        "id": "k4eFUfdabsl1"
      },
      "execution_count": null,
      "outputs": []
    },
    {
      "cell_type": "code",
      "source": [
        "df.select([F.count(F.when(F.col(c).isNull(),c)).alias(c) for c in df.columns]).show()"
      ],
      "metadata": {
        "colab": {
          "base_uri": "https://localhost:8080/"
        },
        "id": "sM8slZFudYx2",
        "outputId": "adf6356d-b747-4dfa-ac9f-b53bd3118a67"
      },
      "execution_count": null,
      "outputs": [
        {
          "output_type": "stream",
          "name": "stdout",
          "text": [
            "+-------+------+-------+----------+---------+-------------+---------------+-----------------+----------+----------------+--------------+-------------+-----------+\n",
            "|Loan_ID|Gender|Married|Dependents|Education|Self_Employed|ApplicantIncome|CoapplicantIncome|LoanAmount|Loan_Amount_Term|Credit_History|Property_Area|Loan_Status|\n",
            "+-------+------+-------+----------+---------+-------------+---------------+-----------------+----------+----------------+--------------+-------------+-----------+\n",
            "|      0|    13|      3|        15|        0|           32|              0|                0|        22|              14|            50|            0|          0|\n",
            "+-------+------+-------+----------+---------+-------------+---------------+-----------------+----------+----------------+--------------+-------------+-----------+\n",
            "\n"
          ]
        }
      ]
    },
    {
      "cell_type": "code",
      "source": [
        "# get mean values column\n",
        "mean = df.select(F.mean(df['LoanAmount'])).collect()[0][0]\n",
        "mean"
      ],
      "metadata": {
        "colab": {
          "base_uri": "https://localhost:8080/"
        },
        "id": "ClBaxBn8gTHF",
        "outputId": "dfdc0e19-7956-49dc-ea83-6f45c8124ec6"
      },
      "execution_count": null,
      "outputs": [
        {
          "output_type": "execute_result",
          "data": {
            "text/plain": [
              "146.41216216216216"
            ]
          },
          "metadata": {},
          "execution_count": 24
        }
      ]
    },
    {
      "cell_type": "code",
      "source": [
        "# how to impute the mean value\n",
        "df = df.na.fill(mean,['LoanAmount'])"
      ],
      "metadata": {
        "id": "lTZDjjH_gqzH"
      },
      "execution_count": null,
      "outputs": []
    },
    {
      "cell_type": "code",
      "source": [
        "#Lets check \n",
        "df.select([F.count(F.when(F.col(c).isNull(),c)).alias(c) for c in df.columns]).show()"
      ],
      "metadata": {
        "colab": {
          "base_uri": "https://localhost:8080/"
        },
        "id": "dREsQu7wp1uE",
        "outputId": "ade126a0-6edd-4f95-9b8e-491dccafdf72"
      },
      "execution_count": null,
      "outputs": [
        {
          "output_type": "stream",
          "name": "stdout",
          "text": [
            "+-------+------+-------+----------+---------+-------------+---------------+-----------------+----------+----------------+--------------+-------------+-----------+\n",
            "|Loan_ID|Gender|Married|Dependents|Education|Self_Employed|ApplicantIncome|CoapplicantIncome|LoanAmount|Loan_Amount_Term|Credit_History|Property_Area|Loan_Status|\n",
            "+-------+------+-------+----------+---------+-------------+---------------+-----------------+----------+----------------+--------------+-------------+-----------+\n",
            "|      0|    13|      3|        15|        0|           32|              0|                0|         0|              14|            50|            0|          0|\n",
            "+-------+------+-------+----------+---------+-------------+---------------+-----------------+----------+----------------+--------------+-------------+-----------+\n",
            "\n"
          ]
        }
      ]
    },
    {
      "cell_type": "code",
      "source": [
        "# get mode value of column\n",
        "df.groupby('Gender').count().orderBy('count',ascending = False).first()[0]"
      ],
      "metadata": {
        "id": "Q4MupNGMp7xT",
        "colab": {
          "base_uri": "https://localhost:8080/",
          "height": 36
        },
        "outputId": "b0301ab7-50ea-4141-d864-089f095123f7"
      },
      "execution_count": null,
      "outputs": [
        {
          "output_type": "execute_result",
          "data": {
            "text/plain": [
              "'Male'"
            ],
            "application/vnd.google.colaboratory.intrinsic+json": {
              "type": "string"
            }
          },
          "metadata": {},
          "execution_count": 27
        }
      ]
    },
    {
      "cell_type": "markdown",
      "source": [
        "#Null value Imputation"
      ],
      "metadata": {
        "id": "NyO0Agg1f9cd"
      }
    },
    {
      "cell_type": "code",
      "source": [
        "# generalised Way for filling null values for all the columns\n",
        "numerical_col = ['LoanAmount','Loan_Amount_Term']\n",
        "categorical_col = ['Gender','Married','Dependents','Self_Employed','Credit_History']\n",
        "# Credit_History act as categorical so we put in cat_col\n",
        "for col in numerical_col:\n",
        "  mean = df.select(F.mean(df[col])).collect()[0][0]\n",
        "  df = df.na.fill(mean,[col])\n",
        "for col in categorical_col:\n",
        "  mode = df.groupby([col]).count().orderBy('count',ascending = False).first()[0]\n",
        "  df = df.na.fill(mode,[col])"
      ],
      "metadata": {
        "id": "oF7UGCLQbkLC"
      },
      "execution_count": null,
      "outputs": []
    },
    {
      "cell_type": "code",
      "source": [
        "df.select([F.count(F.when(F.col(c).isNull(),c)).alias(c) for c in df.columns]).show()"
      ],
      "metadata": {
        "colab": {
          "base_uri": "https://localhost:8080/"
        },
        "id": "YD9cvCRxc9Jg",
        "outputId": "2314b239-e771-4179-a029-aeb1f16a1715"
      },
      "execution_count": null,
      "outputs": [
        {
          "output_type": "stream",
          "name": "stdout",
          "text": [
            "+-------+------+-------+----------+---------+-------------+---------------+-----------------+----------+----------------+--------------+-------------+-----------+\n",
            "|Loan_ID|Gender|Married|Dependents|Education|Self_Employed|ApplicantIncome|CoapplicantIncome|LoanAmount|Loan_Amount_Term|Credit_History|Property_Area|Loan_Status|\n",
            "+-------+------+-------+----------+---------+-------------+---------------+-----------------+----------+----------------+--------------+-------------+-----------+\n",
            "|      0|     0|      0|         0|        0|            0|              0|                0|         0|               0|             0|            0|          0|\n",
            "+-------+------+-------+----------+---------+-------------+---------------+-----------------+----------+----------------+--------------+-------------+-----------+\n",
            "\n"
          ]
        }
      ]
    },
    {
      "cell_type": "code",
      "source": [
        "# here we combining the two columns ApplicantIncome,CoapplicantIncome\n",
        "df = df.withColumn('Total_Income',F.col('ApplicantIncome')+F.col('CoapplicantIncome'))\n",
        "df.show(2)"
      ],
      "metadata": {
        "colab": {
          "base_uri": "https://localhost:8080/"
        },
        "id": "fguky170fjTb",
        "outputId": "6c08b2ee-47ce-4d8a-cae7-81f9248c1999"
      },
      "execution_count": null,
      "outputs": [
        {
          "output_type": "stream",
          "name": "stdout",
          "text": [
            "+--------+------+-------+----------+---------+-------------+---------------+-----------------+----------+----------------+--------------+-------------+-----------+------------+\n",
            "| Loan_ID|Gender|Married|Dependents|Education|Self_Employed|ApplicantIncome|CoapplicantIncome|LoanAmount|Loan_Amount_Term|Credit_History|Property_Area|Loan_Status|Total_Income|\n",
            "+--------+------+-------+----------+---------+-------------+---------------+-----------------+----------+----------------+--------------+-------------+-----------+------------+\n",
            "|LP001002|  Male|     No|         0| Graduate|           No|           5849|              0.0|       146|             360|             1|        Urban|          Y|      5849.0|\n",
            "|LP001003|  Male|    Yes|         1| Graduate|           No|           4583|           1508.0|       128|             360|             1|        Rural|          N|      6091.0|\n",
            "+--------+------+-------+----------+---------+-------------+---------------+-----------------+----------+----------------+--------------+-------------+-----------+------------+\n",
            "only showing top 2 rows\n",
            "\n"
          ]
        }
      ]
    },
    {
      "cell_type": "code",
      "source": [
        "# how to do find and replace\n",
        "# to convert the Loan_Stratus to numerical column\n",
        "df = df.withColumn('Loan_Status',F.when(df['Loan_Status']=='Y',1).otherwise(0))\n",
        "df.show(2)"
      ],
      "metadata": {
        "colab": {
          "base_uri": "https://localhost:8080/"
        },
        "id": "xS2zqx5wgs4l",
        "outputId": "33331e6c-ff34-4d00-82c3-2fac6e14d0e7"
      },
      "execution_count": null,
      "outputs": [
        {
          "output_type": "stream",
          "name": "stdout",
          "text": [
            "+--------+------+-------+----------+---------+-------------+---------------+-----------------+----------+----------------+--------------+-------------+-----------+------------+\n",
            "| Loan_ID|Gender|Married|Dependents|Education|Self_Employed|ApplicantIncome|CoapplicantIncome|LoanAmount|Loan_Amount_Term|Credit_History|Property_Area|Loan_Status|Total_Income|\n",
            "+--------+------+-------+----------+---------+-------------+---------------+-----------------+----------+----------------+--------------+-------------+-----------+------------+\n",
            "|LP001002|  Male|     No|         0| Graduate|           No|           5849|              0.0|       146|             360|             1|        Urban|          1|      5849.0|\n",
            "|LP001003|  Male|    Yes|         1| Graduate|           No|           4583|           1508.0|       128|             360|             1|        Rural|          0|      6091.0|\n",
            "+--------+------+-------+----------+---------+-------------+---------------+-----------------+----------+----------------+--------------+-------------+-----------+------------+\n",
            "only showing top 2 rows\n",
            "\n"
          ]
        }
      ]
    },
    {
      "cell_type": "markdown",
      "source": [
        "#Feature Engineering"
      ],
      "metadata": {
        "id": "E1ODiiSfkKNf"
      }
    },
    {
      "cell_type": "code",
      "source": [
        "df.printSchema()"
      ],
      "metadata": {
        "colab": {
          "base_uri": "https://localhost:8080/"
        },
        "id": "Yjnf8ieekC2I",
        "outputId": "eb1ae224-0814-4e5a-efe8-dbf01dc40cf4"
      },
      "execution_count": null,
      "outputs": [
        {
          "output_type": "stream",
          "name": "stdout",
          "text": [
            "root\n",
            " |-- Loan_ID: string (nullable = true)\n",
            " |-- Gender: string (nullable = false)\n",
            " |-- Married: string (nullable = false)\n",
            " |-- Dependents: string (nullable = false)\n",
            " |-- Education: string (nullable = true)\n",
            " |-- Self_Employed: string (nullable = false)\n",
            " |-- ApplicantIncome: integer (nullable = true)\n",
            " |-- CoapplicantIncome: double (nullable = true)\n",
            " |-- LoanAmount: integer (nullable = true)\n",
            " |-- Loan_Amount_Term: integer (nullable = true)\n",
            " |-- Credit_History: integer (nullable = true)\n",
            " |-- Property_Area: string (nullable = true)\n",
            " |-- Loan_Status: integer (nullable = false)\n",
            " |-- Total_Income: double (nullable = true)\n",
            "\n"
          ]
        }
      ]
    },
    {
      "cell_type": "code",
      "source": [
        "from pyspark.ml.feature import VectorAssembler,OneHotEncoder,StringIndexer\n",
        "from pyspark.ml import Pipeline"
      ],
      "metadata": {
        "id": "aLg7598pkS6Y"
      },
      "execution_count": null,
      "outputs": []
    },
    {
      "cell_type": "code",
      "source": [
        "categorical_columns = ['Gender', 'Married', 'Dependents', 'Education', 'Self_Employed', 'Property_Area', 'Credit_History']\n",
        "numerical_columns = ['ApplicantIncome', 'CoapplicantIncome', 'LoanAmount', 'Loan_Amount_Term', 'Total_Income']\n",
        "\n",
        "# index the string columns\n",
        "indexers = [StringIndexer(inputCol=col, outputCol=\"{0}_index\".format(col)) for col in categorical_columns]\n",
        "\n",
        "# encode the indexed values\n",
        "encoders = [OneHotEncoder(dropLast=False, inputCol=indexer.getOutputCol(), outputCol=\"{0}_encoded\".format(indexer.getOutputCol()))\n",
        "           for indexer in indexers]\n",
        "\n",
        "input_columns = [encoder.getOutputCol() for encoder in encoders] + numerical_columns\n",
        "\n",
        "# vectorize the encoded values\n",
        "assembler = VectorAssembler(inputCols=input_columns, outputCol=\"feature\")"
      ],
      "metadata": {
        "id": "6x21qIQToI3J"
      },
      "execution_count": null,
      "outputs": []
    },
    {
      "cell_type": "code",
      "source": [
        "#create the pipeline to transform the data\n",
        "pipeline = Pipeline(stages = indexers+encoders+[assembler])"
      ],
      "metadata": {
        "id": "mrgsKVZLuWsB"
      },
      "execution_count": null,
      "outputs": []
    },
    {
      "cell_type": "code",
      "source": [
        "data_model = pipeline.fit(df)\n",
        "transformed_df = data_model.transform(df)"
      ],
      "metadata": {
        "id": "JhgZQ7I0qWT7"
      },
      "execution_count": null,
      "outputs": []
    },
    {
      "cell_type": "code",
      "source": [
        "transformed_df.show(1)"
      ],
      "metadata": {
        "colab": {
          "base_uri": "https://localhost:8080/"
        },
        "id": "9Hh_rQI4ubi2",
        "outputId": "008437dc-4e93-427f-8531-1362ec7fc844"
      },
      "execution_count": null,
      "outputs": [
        {
          "output_type": "stream",
          "name": "stdout",
          "text": [
            "+--------+------+-------+----------+---------+-------------+---------------+-----------------+----------+----------------+--------------+-------------+-----------+------------+------------+-------------+----------------+---------------+-------------------+-------------------+--------------------+--------------------+---------------------+------------------------+-----------------------+---------------------------+---------------------------+----------------------------+--------------------+\n",
            "| Loan_ID|Gender|Married|Dependents|Education|Self_Employed|ApplicantIncome|CoapplicantIncome|LoanAmount|Loan_Amount_Term|Credit_History|Property_Area|Loan_Status|Total_Income|Gender_index|Married_index|Dependents_index|Education_index|Self_Employed_index|Property_Area_index|Credit_History_index|Gender_index_encoded|Married_index_encoded|Dependents_index_encoded|Education_index_encoded|Self_Employed_index_encoded|Property_Area_index_encoded|Credit_History_index_encoded|             feature|\n",
            "+--------+------+-------+----------+---------+-------------+---------------+-----------------+----------+----------------+--------------+-------------+-----------+------------+------------+-------------+----------------+---------------+-------------------+-------------------+--------------------+--------------------+---------------------+------------------------+-----------------------+---------------------------+---------------------------+----------------------------+--------------------+\n",
            "|LP001002|  Male|     No|         0| Graduate|           No|           5849|              0.0|       146|             360|             1|        Urban|          1|      5849.0|         0.0|          1.0|             0.0|            0.0|                0.0|                1.0|                 0.0|       (2,[0],[1.0])|        (2,[1],[1.0])|           (4,[0],[1.0])|          (2,[0],[1.0])|              (2,[0],[1.0])|              (3,[1],[1.0])|               (2,[0],[1.0])|(22,[0,3,4,8,10,1...|\n",
            "+--------+------+-------+----------+---------+-------------+---------------+-----------------+----------+----------------+--------------+-------------+-----------+------------+------------+-------------+----------------+---------------+-------------------+-------------------+--------------------+--------------------+---------------------+------------------------+-----------------------+---------------------------+---------------------------+----------------------------+--------------------+\n",
            "only showing top 1 row\n",
            "\n"
          ]
        }
      ]
    },
    {
      "cell_type": "code",
      "source": [
        "# get input feature and output column\n",
        "transformed_df = transformed_df.select(['Feature','Loan_Status'])\n",
        "transformed_df.show(5)"
      ],
      "metadata": {
        "colab": {
          "base_uri": "https://localhost:8080/"
        },
        "id": "bcaYFOqgwowW",
        "outputId": "e83780ba-aded-49ff-9936-34aa7e8c6444"
      },
      "execution_count": null,
      "outputs": [
        {
          "output_type": "stream",
          "name": "stdout",
          "text": [
            "+--------------------+-----------+\n",
            "|             Feature|Loan_Status|\n",
            "+--------------------+-----------+\n",
            "|(22,[0,3,4,8,10,1...|          1|\n",
            "|(22,[0,2,5,8,10,1...|          0|\n",
            "|(22,[0,2,4,8,11,1...|          1|\n",
            "|(22,[0,2,4,9,10,1...|          1|\n",
            "|(22,[0,3,4,8,10,1...|          1|\n",
            "+--------------------+-----------+\n",
            "only showing top 5 rows\n",
            "\n"
          ]
        }
      ]
    },
    {
      "cell_type": "code",
      "source": [
        "#Split the data into train and test data\n",
        "train_data,test_data = transformed_df.randomSplit([0.8,0.2],seed = 42)"
      ],
      "metadata": {
        "id": "3JgRWMI1w61q"
      },
      "execution_count": null,
      "outputs": []
    },
    {
      "cell_type": "code",
      "source": [
        "train_data.show(5)"
      ],
      "metadata": {
        "colab": {
          "base_uri": "https://localhost:8080/"
        },
        "id": "2lkiod-qxaxW",
        "outputId": "05d5bd44-d126-4c5e-bdcc-8de7658906f3"
      },
      "execution_count": null,
      "outputs": [
        {
          "output_type": "stream",
          "name": "stdout",
          "text": [
            "+--------------------+-----------+\n",
            "|             Feature|Loan_Status|\n",
            "+--------------------+-----------+\n",
            "|(22,[0,2,4,8,10,1...|          1|\n",
            "|(22,[0,2,4,8,10,1...|          1|\n",
            "|(22,[0,2,4,8,10,1...|          0|\n",
            "|(22,[0,2,4,8,10,1...|          1|\n",
            "|(22,[0,2,4,8,10,1...|          1|\n",
            "+--------------------+-----------+\n",
            "only showing top 5 rows\n",
            "\n"
          ]
        }
      ]
    },
    {
      "cell_type": "markdown",
      "source": [
        "#Model Training and Testing"
      ],
      "metadata": {
        "id": "zP6-n50PxsPk"
      }
    },
    {
      "cell_type": "code",
      "source": [
        "from pyspark.ml.classification import LogisticRegression,RandomForestClassifier\n",
        "from pyspark.ml.evaluation import BinaryClassificationEvaluator"
      ],
      "metadata": {
        "id": "dcp1Ss6FyXug"
      },
      "execution_count": null,
      "outputs": []
    },
    {
      "cell_type": "code",
      "source": [
        "#Logistic Regression\n",
        "log_reg = LogisticRegression(featuresCol ='Feature',labelCol = 'Loan_Status' )\n",
        "log_reg_model = log_reg.fit(train_data)"
      ],
      "metadata": {
        "id": "YkcMC_r1xmhx"
      },
      "execution_count": null,
      "outputs": []
    },
    {
      "cell_type": "code",
      "source": [
        "# lets do prediction on test data\n",
        "predictions = log_reg_model.transform(test_data)\n",
        "predictions.show(5)"
      ],
      "metadata": {
        "colab": {
          "base_uri": "https://localhost:8080/"
        },
        "id": "usBZwyfyyJe7",
        "outputId": "1e6d4403-8e1a-43d5-ba0f-f2a5674618da"
      },
      "execution_count": null,
      "outputs": [
        {
          "output_type": "stream",
          "name": "stdout",
          "text": [
            "+--------------------+-----------+--------------------+--------------------+----------+\n",
            "|             Feature|Loan_Status|       rawPrediction|         probability|prediction|\n",
            "+--------------------+-----------+--------------------+--------------------+----------+\n",
            "|(22,[0,2,4,8,10,1...|          1|[-2.1309019654107...|[0.10612939546952...|       1.0|\n",
            "|(22,[0,2,4,8,10,1...|          1|[-2.1965880165663...|[0.10005730505861...|       1.0|\n",
            "|(22,[0,2,4,8,10,1...|          1|[-2.1183870711017...|[0.10732249829704...|       1.0|\n",
            "|(22,[0,2,4,8,10,1...|          1|[-2.1420673697694...|[0.10507482746799...|       1.0|\n",
            "|(22,[0,2,4,8,10,1...|          1|[-2.1120272450757...|[0.10793332086955...|       1.0|\n",
            "+--------------------+-----------+--------------------+--------------------+----------+\n",
            "only showing top 5 rows\n",
            "\n"
          ]
        }
      ]
    },
    {
      "cell_type": "code",
      "source": [
        "auc = BinaryClassificationEvaluator().setLabelCol('Loan_Status')\n",
        "print('AUC: ',str(auc.evaluate(predictions)))"
      ],
      "metadata": {
        "colab": {
          "base_uri": "https://localhost:8080/"
        },
        "id": "K0r27Gbvy0B3",
        "outputId": "877a8b8f-8bcb-4436-a470-58f3e84b6b3a"
      },
      "execution_count": null,
      "outputs": [
        {
          "output_type": "stream",
          "name": "stdout",
          "text": [
            "AUC:  0.782010582010582\n"
          ]
        }
      ]
    },
    {
      "cell_type": "code",
      "source": [
        "# RandonforestClassifier\n",
        "rf = RandomForestClassifier(featuresCol='Feature', labelCol='Loan_Status')\n",
        "rf_model = rf.fit(train_data)\n",
        "predictions = rf_model.transform(test_data)\n",
        "auc = BinaryClassificationEvaluator().setLabelCol('Loan_Status')\n",
        "print('AUC:', str(auc.evaluate(predictions)))"
      ],
      "metadata": {
        "colab": {
          "base_uri": "https://localhost:8080/"
        },
        "id": "UqftMJLs1tQ2",
        "outputId": "58da444a-cefc-4f7f-8033-15f245e6f819"
      },
      "execution_count": null,
      "outputs": [
        {
          "output_type": "stream",
          "name": "stdout",
          "text": [
            "AUC: 0.8248677248677249\n"
          ]
        }
      ]
    },
    {
      "cell_type": "code",
      "source": [],
      "metadata": {
        "id": "I5yRU2-j3Z74"
      },
      "execution_count": null,
      "outputs": []
    }
  ]
}